{
 "cells": [
  {
   "cell_type": "markdown",
   "id": "7d976c2b",
   "metadata": {},
   "source": [
    "# Урок 1. Знакомство с Python"
   ]
  },
  {
   "cell_type": "markdown",
   "id": "7fb5e9a9",
   "metadata": {},
   "source": [
    "### 1. Поработайте с переменными, создайте несколько, выведите на экран, запросите у пользователя несколько чисел и строк и сохраните в переменные, выведите на экран."
   ]
  },
  {
   "cell_type": "code",
   "execution_count": 22,
   "id": "bb57c949",
   "metadata": {},
   "outputs": [
    {
     "name": "stdout",
     "output_type": "stream",
     "text": [
      "Число 1: 12\n",
      "Число 2: 34\n",
      "Число 3: 56\n",
      "Число 4: 78\n",
      "Строка 1: aa\n",
      "Строка 2: bb\n",
      "Строка 3: cc\n",
      "Строка 4: dd\n"
     ]
    }
   ],
   "source": [
    "# Числовые переменные\n",
    "var_num_1 = int(input (\"Число 1: \"))\n",
    "var_num_2 = int(input (\"Число 2: \"))\n",
    "var_num_3 = int(input (\"Число 3: \"))\n",
    "var_num_4 = int(input (\"Число 4: \"))\n",
    "\n",
    "# Строковые переменные\n",
    "var_str_1 = str(input (\"Строка 1: \"))\n",
    "var_str_2 = str(input (\"Строка 2: \"))\n",
    "var_str_3 = str(input (\"Строка 3: \"))\n",
    "var_str_4 = str(input (\"Строка 4: \"))\n"
   ]
  },
  {
   "cell_type": "code",
   "execution_count": 28,
   "id": "f7cef8e6",
   "metadata": {
    "scrolled": true
   },
   "outputs": [
    {
     "name": "stdout",
     "output_type": "stream",
     "text": [
      "Введенные числа: \n",
      " \t n1: 12;\n",
      " \t n2: 34;\n",
      " \t n3: 56;\n",
      " \t n4: 78;\n",
      "\n",
      "Введенные строки: \n",
      " \t s1: aa;\n",
      " \t s2: bb;\n",
      " \t s3: cc;\n",
      " \t n4: dd;\n",
      "\n"
     ]
    }
   ],
   "source": [
    "# Вывод переменных\n",
    "print('Введенные числа: \\n \\t n1: %d;\\n \\t n2: %d;\\n \\t n3: %d;\\n \\t n4: %d;\\n' % (var_num_1, var_num_2, var_num_3, var_num_4) )\n",
    "print('Введенные строки: \\n \\t s1: %s;\\n \\t s2: %s;\\n \\t s3: %s;\\n \\t n4: %s;\\n' % (var_str_1, var_str_2, var_str_3, var_str_4) )"
   ]
  },
  {
   "cell_type": "markdown",
   "id": "9e4be9ca",
   "metadata": {},
   "source": [
    "### 2. Пользователь вводит время в секундах. Переведите время в часы, минуты и секунды и выведите в формате чч:мм:сс. Используйте форматирование строк."
   ]
  },
  {
   "cell_type": "code",
   "execution_count": 10,
   "id": "aa00d3fc",
   "metadata": {},
   "outputs": [
    {
     "name": "stdout",
     "output_type": "stream",
     "text": [
      "Секунд: 2763549\n"
     ]
    }
   ],
   "source": [
    "# Ввод переменной - секунды\n",
    "secs = int(input (\"Секунд: \"))\n",
    "\n",
    "# Расчет часов-минут-секунд\n",
    "hours = secs // 3600\n",
    "secs = secs % 3600\n",
    "mins = secs // 60\n",
    "secs = secs % 60"
   ]
  },
  {
   "cell_type": "code",
   "execution_count": 11,
   "id": "7d507662",
   "metadata": {},
   "outputs": [
    {
     "name": "stdout",
     "output_type": "stream",
     "text": [
      "Время: 767:39:09\n"
     ]
    }
   ],
   "source": [
    "print('Время: %02d:%02d:%02d' % (hours, mins, secs))\n"
   ]
  },
  {
   "cell_type": "markdown",
   "id": "a536fed7",
   "metadata": {},
   "source": [
    "### 3. Узнайте у пользователя число n. Найдите сумму чисел n + nn + nnn. Например, пользователь ввёл число 3. Считаем 3 + 33 + 333 = 369."
   ]
  },
  {
   "cell_type": "code",
   "execution_count": 12,
   "id": "9ccad050",
   "metadata": {},
   "outputs": [
    {
     "name": "stdout",
     "output_type": "stream",
     "text": [
      "Число: 9\n"
     ]
    }
   ],
   "source": [
    "num = str(input(\"Число: \"))"
   ]
  },
  {
   "cell_type": "code",
   "execution_count": 13,
   "id": "87a22c9a",
   "metadata": {
    "scrolled": true
   },
   "outputs": [
    {
     "name": "stdout",
     "output_type": "stream",
     "text": [
      "Результат:  1107\n"
     ]
    }
   ],
   "source": [
    "print(\"Результат: \", int(num)+int(num+num)+int(num+num+num))"
   ]
  },
  {
   "cell_type": "markdown",
   "id": "1e818943",
   "metadata": {},
   "source": [
    "### 4. Пользователь вводит целое положительное число. Найдите самую большую цифру в числе. Для решения используйте цикл while и арифметические операции."
   ]
  },
  {
   "cell_type": "code",
   "execution_count": 37,
   "id": "50378501",
   "metadata": {},
   "outputs": [
    {
     "name": "stdout",
     "output_type": "stream",
     "text": [
      "Число: 13401201432823\n"
     ]
    }
   ],
   "source": [
    "num = int(input(\"Число: \"))"
   ]
  },
  {
   "cell_type": "code",
   "execution_count": 38,
   "id": "fbc84ee1",
   "metadata": {},
   "outputs": [
    {
     "name": "stdout",
     "output_type": "stream",
     "text": [
      "Максимальная цифра: 8\n"
     ]
    }
   ],
   "source": [
    "max_dig = 0\n",
    "while num > 0:\n",
    "    if (num%10) >= max_dig:\n",
    "        max_dig = num % 10\n",
    "    num = num//10\n",
    "print('Максимальная цифра: %d' %(max_dig))"
   ]
  },
  {
   "cell_type": "markdown",
   "id": "7caba7fb",
   "metadata": {},
   "source": [
    "### 5. Запросите у пользователя значения выручки и издержек фирмы. Определите, с каким финансовым результатом работает фирма (прибыль — выручка больше издержек, или убыток — издержки больше выручки). Выведите соответствующее сообщение. Если фирма отработала с прибылью, вычислите рентабельность выручки (соотношение прибыли к выручке). Далее запросите численность сотрудников фирмы и определите прибыль фирмы в расчете на одного сотрудника."
   ]
  },
  {
   "cell_type": "code",
   "execution_count": 42,
   "id": "5d43dad4",
   "metadata": {},
   "outputs": [
    {
     "name": "stdout",
     "output_type": "stream",
     "text": [
      "Выручка: 1\n",
      "Издержки: 100\n",
      "Компания работает в убыток\n"
     ]
    }
   ],
   "source": [
    "revenue = int(input(\"Выручка: \"))\n",
    "costs = int(input(\"Издержки: \"))\n",
    "\n",
    "if revenue > costs:\n",
    "    print(\"Компания работает в прибыль\")\n",
    "    profit = revenue / costs\n",
    "    print(\"Рентабельность: %.2f\" %(profit) )\n",
    "    emp = int(input(\"Сообщите количество сотрудников: \"))\n",
    "    rev_per_emp = revenue / emp\n",
    "    print(\"Прибыль на 1 сотрудника: %.2f у.е.\" %(rev_per_emp) )\n",
    "elif revenue < costs: \n",
    "    print(\"Компания работает в убыток\")\n",
    "else: print(\"Компания работает в ноль\")\n"
   ]
  },
  {
   "cell_type": "markdown",
   "id": "0fcceab2",
   "metadata": {},
   "source": [
    "### 6. Спортсмен занимается ежедневными пробежками. В первый день его результат составил a километров. Каждый день спортсмен увеличивал результат на 10 % относительно предыдущего. Требуется определить номер дня, на который общий результат спортсмена составить не менее b километров. Программа должна принимать значения параметров a и b и выводить одно натуральное число — номер дня."
   ]
  },
  {
   "cell_type": "code",
   "execution_count": 48,
   "id": "07b8dc28",
   "metadata": {},
   "outputs": [
    {
     "name": "stdout",
     "output_type": "stream",
     "text": [
      "За первый день, км: 2\n",
      "Цель, км: 3\n",
      "1-й день: 2.00\n",
      "2-й день: 2.20\n",
      "3-й день: 2.42\n",
      "4-й день: 2.66\n",
      "5-й день: 2.93\n",
      "6-й день: 3.22\n",
      "На 6-й день спортсмен достиг цели - не менее 3 км\n"
     ]
    }
   ],
   "source": [
    "a = int(input(\"За первый день, км: \"))\n",
    "b = int(input(\"Цель, км: \"))\n",
    "\n",
    "days = 1\n",
    "\n",
    "print(\"%d-й день: %.2f\" %(days, a))\n",
    "while a <= b:\n",
    "    a *= 1.1\n",
    "    days += 1\n",
    "    print(\"%d-й день: %.2f\" %(days, a))\n",
    "    \n",
    "    \n",
    "print(\"На %d-й день спортсмен достиг цели - не менее %d км\" %(days, b))\n",
    "    "
   ]
  }
 ],
 "metadata": {
  "kernelspec": {
   "display_name": "Python 3",
   "language": "python",
   "name": "python3"
  },
  "language_info": {
   "codemirror_mode": {
    "name": "ipython",
    "version": 3
   },
   "file_extension": ".py",
   "mimetype": "text/x-python",
   "name": "python",
   "nbconvert_exporter": "python",
   "pygments_lexer": "ipython3",
   "version": "3.8.8"
  }
 },
 "nbformat": 4,
 "nbformat_minor": 5
}
